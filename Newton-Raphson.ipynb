{
 "cells": [
  {
   "cell_type": "code",
   "execution_count": 1,
   "id": "bf96b58a",
   "metadata": {},
   "outputs": [],
   "source": [
    "from sympy import *\n",
    "import sympy as sp #a library to take functions as inputs in python & for plotting\n",
    "import random #a library to generate random guesses\n",
    "import mpmath #library to access complex numbers\n",
    "\n",
    "#Making a function for Newton-Raphson Method :\n",
    "def NewRap(func, epsilon): \n",
    "    y=func=func\n",
    "    epsilon = epsilon\n",
    "    ans = float(random.randint(x1+10,x2+10)*\n",
    "                random.random())+float(random.randint(x1+10,x2+10)*random.random())*I #guessing a random value\n",
    "    \n",
    "    error =initial_error= i =1000\n",
    "    roots=[]\n",
    "    flag=0\n",
    "    derivative = sp.diff(func,x).subs(x,ans) \n",
    "    while error > epsilon :\n",
    "        #print(error)\n",
    "        \n",
    "        #f(ans) = 0 , then ans is the root , so i have defined the error in the following way:\n",
    "        error = i = abs(simplify(expand_complex(func.subs(x,ans))))\n",
    "        \n",
    "        #below is the code to avoid the points where derivative = 0 \n",
    "        while derivative ==0 :\n",
    "            ans = float(random.randint(x1,x2)*\n",
    "                        random.random())+float(random.randint(x1,x2)*random.random())*I\n",
    "            derivative = simplify(sp.diff(func,x).subs(x,ans))\n",
    "    \n",
    "        derivative = simplify(sp.diff(func,x).subs(x,ans))\n",
    "        ans = simplify((ans - simplify(func.subs(x,ans)/derivative))) #update expression in newton raphson\n",
    "        \n",
    "        #below is the code which aides in finding other roots \n",
    "        if error < abs(float(epsilon)) and abs(float(flag)) < abs(float(sp.degree(func)-1)):\n",
    "            flag=flag+1\n",
    "            roots.append(ans)\n",
    "            error=1000\n",
    "            func = func/(x-ans) #this code specifically does the magic to find other roots of the polynomial\n",
    "            ans=float(random.randint(x1,x2)*\n",
    "                      random.random())+float(random.randint(x1,x2)*random.random())*I\n",
    "    roots.append(ans)\n",
    "    \n",
    "    #Below code is to eliminate neglibile values\n",
    "    for i in range(len(roots)):\n",
    "        if abs(im(roots[i]))< 0.0001:\n",
    "            (roots[i])=re(roots[i])\n",
    "    for i in range(len(roots)):\n",
    "        if abs(re(roots[i]))<0.0001:\n",
    "            roots[i]=im(roots[i])*I\n",
    "    \n",
    "#     roots.append(ans)\n",
    "    return roots\n"
   ]
  },
  {
   "cell_type": "code",
   "execution_count": 3,
   "id": "d7ed88e3",
   "metadata": {
    "scrolled": false
   },
   "outputs": [
    {
     "name": "stdout",
     "output_type": "stream",
     "text": [
      "Enter a Polynomial function: (for example: 2*x**3 + x*2 + I = 2x^3+i ) : (x-4)*(x-2)*(x-1.5)*(x+3*I)\n",
      "Orange graph is the derivative and Blue graph is your function\n"
     ]
    },
    {
     "data": {
      "image/png": "[encoded data removed]",
      "text/plain": [
       "<Figure size 432x288 with 1 Axes>"
      ]
     },
     "metadata": {
      "needs_background": "light"
     },
     "output_type": "display_data"
    },
    {
     "name": "stdout",
     "output_type": "stream",
     "text": [
      "your roots are : [1.50000000000000, -2.99999999999999*I, 2.00000000000000, 4.00000000000000]\n"
     ]
    }
   ],
   "source": [
    "#inputs for various stuff is below\n",
    "x= sp.symbols(\"x\") #this is the variable\n",
    "y=func= sp.parsing.sympy_parser.parse_expr(\n",
    "    input('Enter a Polynomial function: (for example: 2*x**3 + x*2 + I = 2x^3+i ) : ')) #input the function\n",
    "x1 = -5 # input lower limit of domain for plotting purposes\n",
    "x2 =  5  # input upper limit of domain for plotting purposes\n",
    "epsilon = 0.00001  # input tolerable error in root\n",
    "\n",
    "\n",
    "#below is plotting the functions\n",
    "func_derivative = y_derivative = sp.diff(func,x) #calculating the derivative\n",
    "print('Orange graph is the derivative and Blue graph is your function')\n",
    "sp.plot(y,y_derivative, (x,x1,x2))\n",
    "\n",
    "\n",
    "roots = NewRap(func, epsilon)\n",
    "print('your roots are : ' + str(roots))\n"
   ]
  },
  {
   "cell_type": "markdown",
   "id": "f32b0b67",
   "metadata": {},
   "source": [
    "# Sample inputs : \n",
    "\n",
    "x**3-2*x+5 \n",
    "(x-4)*(x-2)*(x-1.5)*(x+3*I)\n",
    "x**2+I\n",
    "x**2 - 4\n",
    "\n",
    "You can enter any polynomial as input :D \n",
    "real or complex, both will return the roots\n",
    "\n",
    "Solving Complex polynomials may take a while\n"
   ]
  }
 ],
 "metadata": {
  "kernelspec": {
   "display_name": "Python 3 (ipykernel)",
   "language": "python",
   "name": "python3"
  },
  "language_info": {
   "codemirror_mode": {
    "name": "ipython",
    "version": 3
   },
   "file_extension": ".py",
   "mimetype": "text/x-python",
   "name": "python",
   "nbconvert_exporter": "python",
   "pygments_lexer": "ipython3",
   "version": "3.9.5"
  }
 },
 "nbformat": 4,
 "nbformat_minor": 5
}
